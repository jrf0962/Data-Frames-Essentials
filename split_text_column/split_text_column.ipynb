{
  "nbformat": 4,
  "nbformat_minor": 0,
  "metadata": {
    "colab": {
      "name": "split_text_column.ipynb",
      "version": "0.3.2",
      "provenance": []
    },
    "kernelspec": {
      "name": "python3",
      "display_name": "Python 3"
    }
  },
  "cells": [
    {
      "cell_type": "code",
      "metadata": {
        "id": "M5SR0uZ9m0LU",
        "colab_type": "code",
        "colab": {}
      },
      "source": [
        "import pandas as pd\n",
        "import numpy as np"
      ],
      "execution_count": 0,
      "outputs": []
    },
    {
      "cell_type": "code",
      "metadata": {
        "id": "geJv7y9rm7OV",
        "colab_type": "code",
        "outputId": "e0a8623b-0607-4484-cbec-dfd0ef7e3c6a",
        "colab": {
          "base_uri": "https://localhost:8080/",
          "height": 142
        }
      },
      "source": [
        "df = pd.DataFrame(np.array([[2015, 'Jurasic World', 'Action|Adventure|Science Fiction|Thriller'],\n",
        "                           [2015, 'Insurgent', 'Adventure|Science Fiction|Thriller'],\n",
        "                           [1966, 'The Sand Pebbles', 'Action|Adventure|Drama|War|Romance']]),\n",
        "                  columns = ['year', 'title', 'genres'])\n",
        "df"
      ],
      "execution_count": 19,
      "outputs": [
        {
          "output_type": "execute_result",
          "data": {
            "text/html": [
              "<div>\n",
              "<style scoped>\n",
              "    .dataframe tbody tr th:only-of-type {\n",
              "        vertical-align: middle;\n",
              "    }\n",
              "\n",
              "    .dataframe tbody tr th {\n",
              "        vertical-align: top;\n",
              "    }\n",
              "\n",
              "    .dataframe thead th {\n",
              "        text-align: right;\n",
              "    }\n",
              "</style>\n",
              "<table border=\"1\" class=\"dataframe\">\n",
              "  <thead>\n",
              "    <tr style=\"text-align: right;\">\n",
              "      <th></th>\n",
              "      <th>year</th>\n",
              "      <th>title</th>\n",
              "      <th>genres</th>\n",
              "    </tr>\n",
              "  </thead>\n",
              "  <tbody>\n",
              "    <tr>\n",
              "      <th>0</th>\n",
              "      <td>2015</td>\n",
              "      <td>Jurasic World</td>\n",
              "      <td>Action|Adventure|Science Fiction|Thriller</td>\n",
              "    </tr>\n",
              "    <tr>\n",
              "      <th>1</th>\n",
              "      <td>2015</td>\n",
              "      <td>Insurgent</td>\n",
              "      <td>Adventure|Science Fiction|Thriller</td>\n",
              "    </tr>\n",
              "    <tr>\n",
              "      <th>2</th>\n",
              "      <td>1966</td>\n",
              "      <td>The Sand Pebbles</td>\n",
              "      <td>Action|Adventure|Drama|War|Romance</td>\n",
              "    </tr>\n",
              "  </tbody>\n",
              "</table>\n",
              "</div>"
            ],
            "text/plain": [
              "   year             title                                     genres\n",
              "0  2015     Jurasic World  Action|Adventure|Science Fiction|Thriller\n",
              "1  2015         Insurgent         Adventure|Science Fiction|Thriller\n",
              "2  1966  The Sand Pebbles         Action|Adventure|Drama|War|Romance"
            ]
          },
          "metadata": {
            "tags": []
          },
          "execution_count": 19
        }
      ]
    },
    {
      "cell_type": "code",
      "metadata": {
        "id": "Rrc8xnPu16-x",
        "colab_type": "code",
        "colab": {}
      },
      "source": [
        "# This function takes two arguments\n",
        "# A pandas Series or a Dataframe column and a character variable (separater)\n",
        "# Separate strings between the defined 'separater' \n",
        "# Return a stacked series\n",
        "\n",
        "def separate(data, separater):\n",
        "    return data.str[0:].str.split(separater, expand = True).stack()"
      ],
      "execution_count": 0,
      "outputs": []
    },
    {
      "cell_type": "code",
      "metadata": {
        "id": "yGycXv4P17v4",
        "colab_type": "code",
        "colab": {}
      },
      "source": [
        "# Separate genres column and join it to the dataframe.\n",
        "# Use separate function above to split the string.\n",
        "df = df.join(separate(df.genres, separater = '|').reset_index(level=1,drop=True).rename('genre')).reset_index(drop=True)"
      ],
      "execution_count": 0,
      "outputs": []
    },
    {
      "cell_type": "code",
      "metadata": {
        "id": "V5rKqKQZ2JI2",
        "colab_type": "code",
        "outputId": "46c3908b-c589-469e-98d2-34cadb3436d8",
        "colab": {
          "base_uri": "https://localhost:8080/",
          "height": 421
        }
      },
      "source": [
        "df"
      ],
      "execution_count": 22,
      "outputs": [
        {
          "output_type": "execute_result",
          "data": {
            "text/html": [
              "<div>\n",
              "<style scoped>\n",
              "    .dataframe tbody tr th:only-of-type {\n",
              "        vertical-align: middle;\n",
              "    }\n",
              "\n",
              "    .dataframe tbody tr th {\n",
              "        vertical-align: top;\n",
              "    }\n",
              "\n",
              "    .dataframe thead th {\n",
              "        text-align: right;\n",
              "    }\n",
              "</style>\n",
              "<table border=\"1\" class=\"dataframe\">\n",
              "  <thead>\n",
              "    <tr style=\"text-align: right;\">\n",
              "      <th></th>\n",
              "      <th>year</th>\n",
              "      <th>title</th>\n",
              "      <th>genres</th>\n",
              "      <th>genre</th>\n",
              "    </tr>\n",
              "  </thead>\n",
              "  <tbody>\n",
              "    <tr>\n",
              "      <th>0</th>\n",
              "      <td>2015</td>\n",
              "      <td>Jurasic World</td>\n",
              "      <td>Action|Adventure|Science Fiction|Thriller</td>\n",
              "      <td>Action</td>\n",
              "    </tr>\n",
              "    <tr>\n",
              "      <th>1</th>\n",
              "      <td>2015</td>\n",
              "      <td>Jurasic World</td>\n",
              "      <td>Action|Adventure|Science Fiction|Thriller</td>\n",
              "      <td>Adventure</td>\n",
              "    </tr>\n",
              "    <tr>\n",
              "      <th>2</th>\n",
              "      <td>2015</td>\n",
              "      <td>Jurasic World</td>\n",
              "      <td>Action|Adventure|Science Fiction|Thriller</td>\n",
              "      <td>Science Fiction</td>\n",
              "    </tr>\n",
              "    <tr>\n",
              "      <th>3</th>\n",
              "      <td>2015</td>\n",
              "      <td>Jurasic World</td>\n",
              "      <td>Action|Adventure|Science Fiction|Thriller</td>\n",
              "      <td>Thriller</td>\n",
              "    </tr>\n",
              "    <tr>\n",
              "      <th>4</th>\n",
              "      <td>2015</td>\n",
              "      <td>Insurgent</td>\n",
              "      <td>Adventure|Science Fiction|Thriller</td>\n",
              "      <td>Adventure</td>\n",
              "    </tr>\n",
              "    <tr>\n",
              "      <th>5</th>\n",
              "      <td>2015</td>\n",
              "      <td>Insurgent</td>\n",
              "      <td>Adventure|Science Fiction|Thriller</td>\n",
              "      <td>Science Fiction</td>\n",
              "    </tr>\n",
              "    <tr>\n",
              "      <th>6</th>\n",
              "      <td>2015</td>\n",
              "      <td>Insurgent</td>\n",
              "      <td>Adventure|Science Fiction|Thriller</td>\n",
              "      <td>Thriller</td>\n",
              "    </tr>\n",
              "    <tr>\n",
              "      <th>7</th>\n",
              "      <td>1966</td>\n",
              "      <td>The Sand Pebbles</td>\n",
              "      <td>Action|Adventure|Drama|War|Romance</td>\n",
              "      <td>Action</td>\n",
              "    </tr>\n",
              "    <tr>\n",
              "      <th>8</th>\n",
              "      <td>1966</td>\n",
              "      <td>The Sand Pebbles</td>\n",
              "      <td>Action|Adventure|Drama|War|Romance</td>\n",
              "      <td>Adventure</td>\n",
              "    </tr>\n",
              "    <tr>\n",
              "      <th>9</th>\n",
              "      <td>1966</td>\n",
              "      <td>The Sand Pebbles</td>\n",
              "      <td>Action|Adventure|Drama|War|Romance</td>\n",
              "      <td>Drama</td>\n",
              "    </tr>\n",
              "    <tr>\n",
              "      <th>10</th>\n",
              "      <td>1966</td>\n",
              "      <td>The Sand Pebbles</td>\n",
              "      <td>Action|Adventure|Drama|War|Romance</td>\n",
              "      <td>War</td>\n",
              "    </tr>\n",
              "    <tr>\n",
              "      <th>11</th>\n",
              "      <td>1966</td>\n",
              "      <td>The Sand Pebbles</td>\n",
              "      <td>Action|Adventure|Drama|War|Romance</td>\n",
              "      <td>Romance</td>\n",
              "    </tr>\n",
              "  </tbody>\n",
              "</table>\n",
              "</div>"
            ],
            "text/plain": [
              "    year  ...            genre\n",
              "0   2015  ...           Action\n",
              "1   2015  ...        Adventure\n",
              "2   2015  ...  Science Fiction\n",
              "3   2015  ...         Thriller\n",
              "4   2015  ...        Adventure\n",
              "5   2015  ...  Science Fiction\n",
              "6   2015  ...         Thriller\n",
              "7   1966  ...           Action\n",
              "8   1966  ...        Adventure\n",
              "9   1966  ...            Drama\n",
              "10  1966  ...              War\n",
              "11  1966  ...          Romance\n",
              "\n",
              "[12 rows x 4 columns]"
            ]
          },
          "metadata": {
            "tags": []
          },
          "execution_count": 22
        }
      ]
    }
  ]
}